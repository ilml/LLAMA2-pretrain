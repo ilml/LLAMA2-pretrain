{
 "cells": [
  {
   "cell_type": "code",
   "execution_count": 4,
   "id": "c85522ca-d216-4fd3-897c-f4697b138bf4",
   "metadata": {},
   "outputs": [
    {
     "name": "stdout",
     "output_type": "stream",
     "text": [
      "[2023-08-02 22:01:50,149] [INFO] [real_accelerator.py:133:get_accelerator] Setting ds_accelerator to cuda (auto detect)\n"
     ]
    }
   ],
   "source": [
    "import deepspeed"
   ]
  },
  {
   "cell_type": "code",
   "execution_count": 5,
   "id": "f6ff8540-0c78-46e9-8859-564b66748570",
   "metadata": {},
   "outputs": [],
   "source": [
    "import argparse"
   ]
  },
  {
   "cell_type": "code",
   "execution_count": null,
   "id": "5c153618-3c99-4858-987f-b9fc104e90dd",
   "metadata": {},
   "outputs": [],
   "source": [
    "parser = argparse.ArgumentParser(description='My training script.')\n",
    "parser.add_argument('--local_rank', type=int, default=-1,\n",
    "                    help='local rank passed from distributed launcher')\n",
    "parser.add_argument('--local_rankk', type=int, default=-1,\n",
    "                    help='local rank passed from distributed launcher')\n",
    "# Include DeepSpeed configuration arguments\n",
    "parser = deepspeed.add_config_arguments(parser)\n",
    "cmd_args = parser.parse_args()"
   ]
  },
  {
   "cell_type": "code",
   "execution_count": 6,
   "id": "2272f1ce-1fa3-446b-93d5-7437a825d97c",
   "metadata": {},
   "outputs": [],
   "source": [
    "import torch.nn as nn\n",
    "\n",
    "class DummyModel(nn.Module):\n",
    "    def __init__(self):\n",
    "        super(DummyModel, self).__init__()\n",
    "        \n",
    "        # Define a simple feed-forward neural network with one hidden layer\n",
    "        self.fc1 = nn.Linear(in_features=10, out_features=50)  # Input layer with 10 features\n",
    "        self.fc2 = nn.Linear(in_features=50, out_features=1)   # Output layer with 1 feature\n",
    "        \n",
    "    def forward(self, x):\n",
    "        x = nn.ReLU()(self.fc1(x))\n",
    "        x = self.fc2(x)\n",
    "        return x\n",
    "\n",
    "# Create an instance of the model\n",
    "model = DummyModel()\n",
    "\n"
   ]
  },
  {
   "cell_type": "code",
   "execution_count": null,
   "id": "95c6daf6-585b-4b9a-81c9-bb5d7305736b",
   "metadata": {},
   "outputs": [],
   "source": [
    "model_engine, optimizer, _, _ = deepspeed.initialize(args=cmd_args,\n",
    "                                                     model=model,\n",
    "                                                     model_parameters=model.parameters())\n",
    "print(model_engine)"
   ]
  }
 ],
 "metadata": {
  "kernelspec": {
   "display_name": "Python 3 (ipykernel)",
   "language": "python",
   "name": "python3"
  },
  "language_info": {
   "codemirror_mode": {
    "name": "ipython",
    "version": 3
   },
   "file_extension": ".py",
   "mimetype": "text/x-python",
   "name": "python",
   "nbconvert_exporter": "python",
   "pygments_lexer": "ipython3",
   "version": "3.10.6"
  }
 },
 "nbformat": 4,
 "nbformat_minor": 5
}
